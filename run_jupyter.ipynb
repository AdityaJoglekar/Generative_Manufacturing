{
 "cells": [
  {
   "cell_type": "code",
   "execution_count": null,
   "metadata": {},
   "outputs": [],
   "source": [
    "from optimization_sp import run_opt\n",
    "from optimization_sp import run_batch_opt\n",
    "import os"
   ]
  },
  {
   "cell_type": "code",
   "execution_count": null,
   "metadata": {},
   "outputs": [],
   "source": [
    "study_folder = \"Studies/EMB_Scenario_1\"\n",
    "\n",
    "#Iteration 1\n",
    "\n",
    "#Probing\n",
    "for i in range(1,10):\n",
    "    print(i)\n",
    "    folder_name = \"Past/Iter0/\"+\"config_{}\".format(i)\n",
    "    config_path = os.path.join(study_folder, folder_name)\n",
    "    run_opt(os.path.join(study_folder,\"Past/Iter0/request_header.json\"),os.path.join(config_path,\"mmm.json\"), os.path.join(study_folder,\"bc.json\"), \"Resources/mat_lib.json\",'Resources/machine.json',os.path.join(study_folder,\"Past/Iter0/constraints.json\"),probe = True, test = False)\n",
    "   \n",
    "#Design Optimization\n",
    "for i in range(1,10):\n",
    "    print(i)\n",
    "    folder_name = \"Past/Iter0/\"+\"config_{}\".format(i)\n",
    "    config_path = os.path.join(study_folder, folder_name)  \n",
    "    run_opt(os.path.join(study_folder,\"Past/Iter0/request_header.json\"),os.path.join(config_path,\"mmm.json\"), os.path.join(study_folder,\"bc.json\"), \"Resources/mat_lib.json\",'Resources/machine.json',os.path.join(study_folder,\"Past/Iter0/constraints.json\"),probe = False, test = False)\n",
    "\n",
    "\n",
    "#Iteration 2\n",
    "\n",
    "#Probing\n",
    "for i in range(1,10):\n",
    "    print(i)\n",
    "    folder_name = \"config_{}\".format(i)\n",
    "    config_path = os.path.join(study_folder, folder_name)\n",
    "    run_opt(os.path.join(study_folder,\"request_header.json\"),os.path.join(config_path,\"mmm.json\"), os.path.join(study_folder,\"bc.json\"), \"Resources/mat_lib.json\",'Resources/machine.json',os.path.join(study_folder,\"constraints.json\"),probe = True, test = False)\n",
    "\n",
    "#Design Optimization  \n",
    "for i in range(1,10):\n",
    "    print(i)\n",
    "    folder_name = \"config_{}\".format(i)\n",
    "    config_path = os.path.join(study_folder, folder_name)    \n",
    "    run_opt(os.path.join(study_folder,\"request_header.json\"),os.path.join(config_path,\"mmm.json\"), os.path.join(study_folder,\"bc.json\"), \"Resources/mat_lib.json\",'Resources/machine.json',os.path.join(study_folder,\"constraints.json\"),probe = False, test = False)"
   ]
  }
 ],
 "metadata": {
  "kernelspec": {
   "display_name": "tf",
   "language": "python",
   "name": "python3"
  },
  "language_info": {
   "codemirror_mode": {
    "name": "ipython",
    "version": 3
   },
   "file_extension": ".py",
   "mimetype": "text/x-python",
   "name": "python",
   "nbconvert_exporter": "python",
   "pygments_lexer": "ipython3",
   "version": "3.10.4"
  },
  "orig_nbformat": 4
 },
 "nbformat": 4,
 "nbformat_minor": 2
}
